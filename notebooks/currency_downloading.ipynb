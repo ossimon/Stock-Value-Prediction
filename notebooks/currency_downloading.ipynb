{
 "cells": [
  {
   "cell_type": "code",
   "execution_count": 2,
   "metadata": {},
   "outputs": [],
   "source": [
    "import yfinance as yf"
   ]
  },
  {
   "cell_type": "code",
   "execution_count": 3,
   "metadata": {},
   "outputs": [
    {
     "name": "stderr",
     "output_type": "stream",
     "text": [
      "[*********************100%%**********************]  1 of 1 completed\n",
      "[*********************100%%**********************]  1 of 1 completed\n",
      "[*********************100%%**********************]  1 of 1 completed\n",
      "[*********************100%%**********************]  1 of 1 completed\n",
      "[*********************100%%**********************]  1 of 1 completed\n",
      "[*********************100%%**********************]  1 of 1 completed\n",
      "[*********************100%%**********************]  1 of 1 completed\n"
     ]
    }
   ],
   "source": [
    "start = '2023-04-01'\n",
    "end = '2024-04-01'\n",
    "\n",
    "currencies = {\n",
    "    'usd_pln': 'USDPLN=X', # United States Dollar\n",
    "    'eur_pln': 'EURPLN=X', # Euro\n",
    "    'gbp_pln': 'GBPPLN=X', # British Pound\n",
    "    'chf_pln': 'CHFPLN=X', # Swiss Franc\n",
    "    'jpy_pln': 'JPYPLN=X', # Japanese Yen\n",
    "    'aud_pln': 'AUDPLN=X', # Australian Dollar\n",
    "    'hkd_pln': 'HKDPLN=X', # Hong Kong Dollar\n",
    "}\n",
    "\n",
    "for currency, ticker in currencies.items():\n",
    "    data = yf.download(\"EURUSD=X\", start=\"2023-01-01\", end=\"2024-01-01\", auto_adjust=True)\n",
    "    data.to_csv(f'../irace/Instances/{currency}.csv')"
   ]
  }
 ],
 "metadata": {
  "kernelspec": {
   "display_name": "Python 3",
   "language": "python",
   "name": "python3"
  },
  "language_info": {
   "codemirror_mode": {
    "name": "ipython",
    "version": 3
   },
   "file_extension": ".py",
   "mimetype": "text/x-python",
   "name": "python",
   "nbconvert_exporter": "python",
   "pygments_lexer": "ipython3",
   "version": "3.9.0"
  }
 },
 "nbformat": 4,
 "nbformat_minor": 2
}
